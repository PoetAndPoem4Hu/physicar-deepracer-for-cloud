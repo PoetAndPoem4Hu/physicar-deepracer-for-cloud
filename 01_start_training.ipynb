{
 "cells": [
  {
   "cell_type": "markdown",
   "id": "f8743ae8",
   "metadata": {},
   "source": [
    "# Start Training"
   ]
  },
  {
   "cell_type": "code",
   "execution_count": null,
   "id": "eb042470",
   "metadata": {},
   "outputs": [],
   "source": [
    "from physicar.deepracer.cloud.widget.training import training_widget\n",
    "training_widget()"
   ]
  }
 ],
 "metadata": {
  "kernelspec": {
   "display_name": "Python 3",
   "language": "python",
   "name": "python3"
  },
  "language_info": {
   "codemirror_mode": {
    "name": "ipython",
    "version": 3
   },
   "file_extension": ".py",
   "mimetype": "text/x-python",
   "name": "python",
   "nbconvert_exporter": "python",
   "pygments_lexer": "ipython3",
   "version": "3.12.1"
  }
 },
 "nbformat": 4,
 "nbformat_minor": 5
}
